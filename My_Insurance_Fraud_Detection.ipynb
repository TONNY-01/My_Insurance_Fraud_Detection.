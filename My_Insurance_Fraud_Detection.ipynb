{
  "metadata": {
    "kernelspec": {
      "language": "python",
      "display_name": "Python 3",
      "name": "python3"
    },
    "language_info": {
      "name": "python",
      "version": "3.10.12",
      "mimetype": "text/x-python",
      "codemirror_mode": {
        "name": "ipython",
        "version": 3
      },
      "pygments_lexer": "ipython3",
      "nbconvert_exporter": "python",
      "file_extension": ".py"
    },
    "kaggle": {
      "accelerator": "none",
      "dataSources": [
        {
          "sourceId": 4446288,
          "sourceType": "datasetVersion",
          "datasetId": 2603672
        }
      ],
      "dockerImageVersionId": 30839,
      "isInternetEnabled": true,
      "language": "python",
      "sourceType": "notebook",
      "isGpuEnabled": false
    },
    "colab": {
      "provenance": [],
      "include_colab_link": true
    }
  },
  "nbformat_minor": 0,
  "nbformat": 4,
  "cells": [
    {
      "cell_type": "markdown",
      "metadata": {
        "id": "view-in-github",
        "colab_type": "text"
      },
      "source": [
        "<a href=\"https://colab.research.google.com/github/TONNY-01/My_Insurance_Fraud_Detection./blob/main/My_Insurance_Fraud_Detection.ipynb\" target=\"_parent\"><img src=\"https://colab.research.google.com/assets/colab-badge.svg\" alt=\"Open In Colab\"/></a>"
      ]
    },
    {
      "source": [
        "# IMPORTANT THIS DATA IS OBTAINED FROM KAGGLE.\n",
        "import kagglehub\n",
        "arpan129_insurance_fraud_detection_path = kagglehub.dataset_download('arpan129/insurance-fraud-detection')\n",
        "\n",
        "print('Data source import complete.')\n"
      ],
      "metadata": {
        "id": "p3hgH-KdEMhp"
      },
      "cell_type": "code",
      "outputs": [],
      "execution_count": null
    },
    {
      "cell_type": "code",
      "source": [
        "import numpy as np # linear algebra\n",
        "import pandas as pd # data processing, CSV file I/O (e.g. pd.read_csv)\n",
        "\n",
        "# Input data files are available in the read-only \"../input/\" directory\n",
        "# For example, running this (by clicking run or pressing Shift+Enter) will list all files under the input directory\n",
        "\n",
        "import os\n",
        "for dirname, _, filenames in os.walk('/kaggle/input'):\n",
        "    for filename in filenames:\n",
        "        print(os.path.join(dirname, filename))\n"
      ],
      "metadata": {
        "_uuid": "8f2839f25d086af736a60e9eeb907d3b93b6e0e5",
        "_cell_guid": "b1076dfc-b9ad-4769-8c92-a6c4dae69d19",
        "trusted": true,
        "execution": {
          "iopub.status.busy": "2025-01-27T12:50:37.207313Z",
          "iopub.execute_input": "2025-01-27T12:50:37.207676Z",
          "iopub.status.idle": "2025-01-27T12:50:37.585441Z",
          "shell.execute_reply.started": "2025-01-27T12:50:37.20764Z",
          "shell.execute_reply": "2025-01-27T12:50:37.584306Z"
        },
        "id": "67X8bwJMEMhq"
      },
      "outputs": [],
      "execution_count": null
    },
    {
      "cell_type": "code",
      "source": [
        "data = pd.read_excel('/kaggle/input/insurance-fraud-detection/Worksheet in Case Study question 2.xlsx')\n",
        "data.head()"
      ],
      "metadata": {
        "trusted": true,
        "execution": {
          "iopub.status.busy": "2025-01-27T12:53:00.727952Z",
          "iopub.execute_input": "2025-01-27T12:53:00.728326Z",
          "iopub.status.idle": "2025-01-27T12:53:01.800475Z",
          "shell.execute_reply.started": "2025-01-27T12:53:00.728273Z",
          "shell.execute_reply": "2025-01-27T12:53:01.799468Z"
        },
        "id": "9id7dPWhEMhs"
      },
      "outputs": [],
      "execution_count": null
    },
    {
      "cell_type": "code",
      "source": [
        "data.to_csv(\"Insurance.csv\", index=False)"
      ],
      "metadata": {
        "trusted": true,
        "execution": {
          "iopub.status.busy": "2025-01-27T12:53:28.852204Z",
          "iopub.execute_input": "2025-01-27T12:53:28.852865Z",
          "iopub.status.idle": "2025-01-27T12:53:28.880196Z",
          "shell.execute_reply.started": "2025-01-27T12:53:28.852815Z",
          "shell.execute_reply": "2025-01-27T12:53:28.879435Z"
        },
        "id": "Chj2QvwVEMht"
      },
      "outputs": [],
      "execution_count": null
    },
    {
      "cell_type": "code",
      "source": [
        "df = pd.read_csv('Insurance.csv')"
      ],
      "metadata": {
        "trusted": true,
        "execution": {
          "iopub.status.busy": "2025-01-27T12:54:02.420458Z",
          "iopub.execute_input": "2025-01-27T12:54:02.420825Z",
          "iopub.status.idle": "2025-01-27T12:54:02.438329Z",
          "shell.execute_reply.started": "2025-01-27T12:54:02.4208Z",
          "shell.execute_reply": "2025-01-27T12:54:02.437356Z"
        },
        "id": "0z0VKnjxEMhu"
      },
      "outputs": [],
      "execution_count": null
    },
    {
      "cell_type": "code",
      "source": [
        "df.isnull().sum()"
      ],
      "metadata": {
        "trusted": true,
        "execution": {
          "iopub.status.busy": "2025-01-27T12:54:22.40047Z",
          "iopub.execute_input": "2025-01-27T12:54:22.400813Z",
          "iopub.status.idle": "2025-01-27T12:54:22.409133Z",
          "shell.execute_reply.started": "2025-01-27T12:54:22.40079Z",
          "shell.execute_reply": "2025-01-27T12:54:22.408377Z"
        },
        "id": "IOw3nujHEMhv"
      },
      "outputs": [],
      "execution_count": null
    },
    {
      "cell_type": "code",
      "source": [
        "df['policy_number'].nunique()"
      ],
      "metadata": {
        "trusted": true,
        "execution": {
          "iopub.status.busy": "2025-01-27T12:54:59.122817Z",
          "iopub.execute_input": "2025-01-27T12:54:59.123171Z",
          "iopub.status.idle": "2025-01-27T12:54:59.132336Z",
          "shell.execute_reply.started": "2025-01-27T12:54:59.123143Z",
          "shell.execute_reply": "2025-01-27T12:54:59.131388Z"
        },
        "id": "aObAdu4LEMhw"
      },
      "outputs": [],
      "execution_count": null
    },
    {
      "cell_type": "code",
      "source": [
        "df.duplicated()"
      ],
      "metadata": {
        "trusted": true,
        "execution": {
          "iopub.status.busy": "2025-01-27T12:55:08.572274Z",
          "iopub.execute_input": "2025-01-27T12:55:08.572628Z",
          "iopub.status.idle": "2025-01-27T12:55:08.5899Z",
          "shell.execute_reply.started": "2025-01-27T12:55:08.572603Z",
          "shell.execute_reply": "2025-01-27T12:55:08.588921Z"
        },
        "id": "TaJSP_1OEMhx"
      },
      "outputs": [],
      "execution_count": null
    },
    {
      "cell_type": "code",
      "source": [
        "df1 = df.drop(columns=['policy_number', 'policy_bind_date', 'policy_state', 'policy_csl', 'policy_deductable', 'policy_annual_premium'], axis=1)"
      ],
      "metadata": {
        "trusted": true,
        "execution": {
          "iopub.status.busy": "2025-01-27T12:55:24.749084Z",
          "iopub.execute_input": "2025-01-27T12:55:24.749487Z",
          "iopub.status.idle": "2025-01-27T12:55:24.755355Z",
          "shell.execute_reply.started": "2025-01-27T12:55:24.749457Z",
          "shell.execute_reply": "2025-01-27T12:55:24.75425Z"
        },
        "id": "N-aPYDaBEMhx"
      },
      "outputs": [],
      "execution_count": null
    },
    {
      "cell_type": "code",
      "source": [
        "df2 = df1.drop(columns=['incident_date', 'incident_city', 'incident_state'], axis=1)\n",
        "df2"
      ],
      "metadata": {
        "trusted": true,
        "execution": {
          "iopub.status.busy": "2025-01-27T12:55:35.111481Z",
          "iopub.execute_input": "2025-01-27T12:55:35.111835Z",
          "iopub.status.idle": "2025-01-27T12:55:35.135893Z",
          "shell.execute_reply.started": "2025-01-27T12:55:35.111808Z",
          "shell.execute_reply": "2025-01-27T12:55:35.134942Z"
        },
        "id": "iIbIhd24EMhy"
      },
      "outputs": [],
      "execution_count": null
    },
    {
      "cell_type": "code",
      "source": [
        "df2['incident_location'].head()"
      ],
      "metadata": {
        "trusted": true,
        "execution": {
          "iopub.status.busy": "2025-01-27T12:55:51.783048Z",
          "iopub.execute_input": "2025-01-27T12:55:51.783398Z",
          "iopub.status.idle": "2025-01-27T12:55:51.78987Z",
          "shell.execute_reply.started": "2025-01-27T12:55:51.783375Z",
          "shell.execute_reply": "2025-01-27T12:55:51.788923Z"
        },
        "id": "Z5T79fFREMhy"
      },
      "outputs": [],
      "execution_count": null
    },
    {
      "cell_type": "code",
      "source": [
        "import numpy as np\n",
        "\n",
        "# Replace \"?\" with NaN\n",
        "df2.replace(\"?\", np.nan, inplace=True)"
      ],
      "metadata": {
        "trusted": true,
        "execution": {
          "iopub.status.busy": "2025-01-27T12:56:20.789603Z",
          "iopub.execute_input": "2025-01-27T12:56:20.789965Z",
          "iopub.status.idle": "2025-01-27T12:56:20.796682Z",
          "shell.execute_reply.started": "2025-01-27T12:56:20.78994Z",
          "shell.execute_reply": "2025-01-27T12:56:20.795751Z"
        },
        "id": "68QHHPFcEMhy"
      },
      "outputs": [],
      "execution_count": null
    },
    {
      "cell_type": "code",
      "source": [
        "df2.isnull().sum()"
      ],
      "metadata": {
        "trusted": true,
        "execution": {
          "iopub.status.busy": "2025-01-27T12:56:32.742948Z",
          "iopub.execute_input": "2025-01-27T12:56:32.743259Z",
          "iopub.status.idle": "2025-01-27T12:56:32.752132Z",
          "shell.execute_reply.started": "2025-01-27T12:56:32.743238Z",
          "shell.execute_reply": "2025-01-27T12:56:32.751154Z"
        },
        "id": "EFnShmSwEMhz"
      },
      "outputs": [],
      "execution_count": null
    },
    {
      "cell_type": "code",
      "source": [
        "# Define a list of non-sense values to replace\n",
        "nonsense_values = [\"unknown\", \"none\", \"n/a\"]\n",
        "\n",
        "# Replace them with NaN\n",
        "df2.replace(nonsense_values, np.nan, inplace=True)\n"
      ],
      "metadata": {
        "trusted": true,
        "execution": {
          "iopub.status.busy": "2025-01-27T12:56:54.164071Z",
          "iopub.execute_input": "2025-01-27T12:56:54.16444Z",
          "iopub.status.idle": "2025-01-27T12:56:54.172885Z",
          "shell.execute_reply.started": "2025-01-27T12:56:54.164412Z",
          "shell.execute_reply": "2025-01-27T12:56:54.171784Z"
        },
        "id": "1EtocELBEMhz"
      },
      "outputs": [],
      "execution_count": null
    },
    {
      "cell_type": "code",
      "source": [
        "df2.isnull().sum()"
      ],
      "metadata": {
        "trusted": true,
        "execution": {
          "iopub.status.busy": "2025-01-27T12:57:03.268921Z",
          "iopub.execute_input": "2025-01-27T12:57:03.269262Z",
          "iopub.status.idle": "2025-01-27T12:57:03.277924Z",
          "shell.execute_reply.started": "2025-01-27T12:57:03.269234Z",
          "shell.execute_reply": "2025-01-27T12:57:03.276539Z"
        },
        "id": "SZfdeozOEMhz"
      },
      "outputs": [],
      "execution_count": null
    },
    {
      "cell_type": "code",
      "source": [
        "df2.drop('incident_location', axis=1, inplace=True)"
      ],
      "metadata": {
        "trusted": true,
        "execution": {
          "iopub.status.busy": "2025-01-27T12:57:46.724945Z",
          "iopub.execute_input": "2025-01-27T12:57:46.725336Z",
          "iopub.status.idle": "2025-01-27T12:57:46.730557Z",
          "shell.execute_reply.started": "2025-01-27T12:57:46.725292Z",
          "shell.execute_reply": "2025-01-27T12:57:46.729473Z"
        },
        "id": "agh7rF43EMhz"
      },
      "outputs": [],
      "execution_count": null
    },
    {
      "cell_type": "code",
      "source": [
        "df2.drop(columns=['auto_make', 'auto_model'], axis=1, inplace=True)"
      ],
      "metadata": {
        "trusted": true,
        "execution": {
          "iopub.status.busy": "2025-01-27T12:57:56.472588Z",
          "iopub.execute_input": "2025-01-27T12:57:56.472896Z",
          "iopub.status.idle": "2025-01-27T12:57:56.478476Z",
          "shell.execute_reply.started": "2025-01-27T12:57:56.472874Z",
          "shell.execute_reply": "2025-01-27T12:57:56.477429Z"
        },
        "id": "0IMN-caREMhz"
      },
      "outputs": [],
      "execution_count": null
    },
    {
      "cell_type": "code",
      "source": [
        "# check the imbalace of the dataset\n",
        "import matplotlib.pyplot as plt\n",
        "\n",
        "target_counts = df['fraud_reported'].value_counts()\n",
        "\n",
        "target_counts.plot(kind='pie', autopct='%1.1f%%', colors=['skyblue', 'salmon'])\n",
        "plt.title('Class Distribution of Fraud Reported')\n",
        "plt.ylabel('')\n",
        "plt.show()\n",
        "\n",
        "print(target_counts)"
      ],
      "metadata": {
        "trusted": true,
        "execution": {
          "iopub.status.busy": "2025-01-27T12:58:31.889581Z",
          "iopub.execute_input": "2025-01-27T12:58:31.889962Z",
          "iopub.status.idle": "2025-01-27T12:58:32.137906Z",
          "shell.execute_reply.started": "2025-01-27T12:58:31.889934Z",
          "shell.execute_reply": "2025-01-27T12:58:32.136803Z"
        },
        "id": "hU_xFMbGEMh0"
      },
      "outputs": [],
      "execution_count": null
    },
    {
      "cell_type": "code",
      "source": [
        "df2.drop('umbrella_limit', axis=1, inplace=True)"
      ],
      "metadata": {
        "trusted": true,
        "execution": {
          "iopub.status.busy": "2025-01-27T13:00:32.457824Z",
          "iopub.execute_input": "2025-01-27T13:00:32.458193Z",
          "iopub.status.idle": "2025-01-27T13:00:32.466181Z",
          "shell.execute_reply.started": "2025-01-27T13:00:32.458162Z",
          "shell.execute_reply": "2025-01-27T13:00:32.465228Z"
        },
        "id": "eDG6ZVFlEMh0"
      },
      "outputs": [],
      "execution_count": null
    },
    {
      "cell_type": "code",
      "source": [
        "df2['authorities_contacted'].unique()"
      ],
      "metadata": {
        "trusted": true,
        "execution": {
          "iopub.status.busy": "2025-01-27T13:00:42.657097Z",
          "iopub.execute_input": "2025-01-27T13:00:42.6575Z",
          "iopub.status.idle": "2025-01-27T13:00:42.664733Z",
          "shell.execute_reply.started": "2025-01-27T13:00:42.657465Z",
          "shell.execute_reply": "2025-01-27T13:00:42.663801Z"
        },
        "id": "7AYUJTx5EMh0"
      },
      "outputs": [],
      "execution_count": null
    },
    {
      "cell_type": "code",
      "source": [
        "df2['authorities_contacted'].fillna('None', inplace=True)"
      ],
      "metadata": {
        "trusted": true,
        "execution": {
          "iopub.status.busy": "2025-01-27T13:02:35.587073Z",
          "iopub.execute_input": "2025-01-27T13:02:35.587492Z",
          "iopub.status.idle": "2025-01-27T13:02:35.592731Z",
          "shell.execute_reply.started": "2025-01-27T13:02:35.587459Z",
          "shell.execute_reply": "2025-01-27T13:02:35.591623Z"
        },
        "id": "sUtQqzOQEMh0"
      },
      "outputs": [],
      "execution_count": null
    },
    {
      "cell_type": "code",
      "source": [
        "df2['police_report_available'].unique()"
      ],
      "metadata": {
        "trusted": true,
        "execution": {
          "iopub.status.busy": "2025-01-27T13:03:10.06372Z",
          "iopub.execute_input": "2025-01-27T13:03:10.064081Z",
          "iopub.status.idle": "2025-01-27T13:03:10.070478Z",
          "shell.execute_reply.started": "2025-01-27T13:03:10.064054Z",
          "shell.execute_reply": "2025-01-27T13:03:10.069486Z"
        },
        "id": "O41sI_eeEMh0"
      },
      "outputs": [],
      "execution_count": null
    },
    {
      "cell_type": "code",
      "source": [
        "df2['property_damage'].unique()"
      ],
      "metadata": {
        "trusted": true,
        "execution": {
          "iopub.status.busy": "2025-01-27T13:03:26.18346Z",
          "iopub.execute_input": "2025-01-27T13:03:26.183782Z",
          "iopub.status.idle": "2025-01-27T13:03:26.190208Z",
          "shell.execute_reply.started": "2025-01-27T13:03:26.183759Z",
          "shell.execute_reply": "2025-01-27T13:03:26.189134Z"
        },
        "id": "hbJM3E7sEMh0"
      },
      "outputs": [],
      "execution_count": null
    },
    {
      "cell_type": "code",
      "source": [
        "# Fill missing values\n",
        "df2['collision_type'].fillna('Unknown', inplace=True)\n",
        "df2['property_damage'].fillna('No', inplace=True)\n",
        "df2['police_report_available'].fillna('No', inplace=True)\n"
      ],
      "metadata": {
        "trusted": true,
        "execution": {
          "iopub.status.busy": "2025-01-27T13:05:04.760791Z",
          "iopub.execute_input": "2025-01-27T13:05:04.761111Z",
          "iopub.status.idle": "2025-01-27T13:05:04.766986Z",
          "shell.execute_reply.started": "2025-01-27T13:05:04.761087Z",
          "shell.execute_reply": "2025-01-27T13:05:04.765792Z"
        },
        "id": "yKdlRMIgEMh0"
      },
      "outputs": [],
      "execution_count": null
    },
    {
      "cell_type": "code",
      "source": [
        "df2.isnull().sum()"
      ],
      "metadata": {
        "trusted": true,
        "execution": {
          "iopub.status.busy": "2025-01-27T13:05:21.314302Z",
          "iopub.execute_input": "2025-01-27T13:05:21.314741Z",
          "iopub.status.idle": "2025-01-27T13:05:21.323342Z",
          "shell.execute_reply.started": "2025-01-27T13:05:21.314711Z",
          "shell.execute_reply": "2025-01-27T13:05:21.322365Z"
        },
        "id": "mlU0e4F7EMh1"
      },
      "outputs": [],
      "execution_count": null
    },
    {
      "cell_type": "code",
      "source": [
        "df2.shape"
      ],
      "metadata": {
        "trusted": true,
        "execution": {
          "iopub.status.busy": "2025-01-27T13:05:39.617556Z",
          "iopub.execute_input": "2025-01-27T13:05:39.617914Z",
          "iopub.status.idle": "2025-01-27T13:05:39.624349Z",
          "shell.execute_reply.started": "2025-01-27T13:05:39.617892Z",
          "shell.execute_reply": "2025-01-27T13:05:39.623281Z"
        },
        "id": "ZseIXtdxEMh1"
      },
      "outputs": [],
      "execution_count": null
    },
    {
      "cell_type": "code",
      "source": [
        "numerical_columns = df.select_dtypes(include=['number']).columns.tolist()\n",
        "numerical_columns"
      ],
      "metadata": {
        "trusted": true,
        "execution": {
          "iopub.status.busy": "2025-01-27T13:06:01.29891Z",
          "iopub.execute_input": "2025-01-27T13:06:01.299232Z",
          "iopub.status.idle": "2025-01-27T13:06:01.306162Z",
          "shell.execute_reply.started": "2025-01-27T13:06:01.299209Z",
          "shell.execute_reply": "2025-01-27T13:06:01.305398Z"
        },
        "id": "7ZiWXpUwEMh1"
      },
      "outputs": [],
      "execution_count": null
    },
    {
      "cell_type": "code",
      "source": [
        "# Plot box and whisker plots for numerical columns\n",
        "numerical_columns = df.select_dtypes(include=['number']).columns\n",
        "\n",
        "for column in numerical_columns:\n",
        "    plt.figure(figsize=(8, 4))\n",
        "    plt.boxplot(df[column].dropna(), vert=False, patch_artist=True, boxprops=dict(facecolor='skyblue'))\n",
        "    plt.title(f'Box and Whisker Plot for {column}')\n",
        "    plt.xlabel(column)\n",
        "    plt.show()\n"
      ],
      "metadata": {
        "trusted": true,
        "execution": {
          "iopub.status.busy": "2025-01-27T13:06:18.481163Z",
          "iopub.execute_input": "2025-01-27T13:06:18.481538Z",
          "iopub.status.idle": "2025-01-27T13:06:20.748143Z",
          "shell.execute_reply.started": "2025-01-27T13:06:18.48151Z",
          "shell.execute_reply": "2025-01-27T13:06:20.746952Z"
        },
        "id": "gD3HDyksEMh1"
      },
      "outputs": [],
      "execution_count": null
    },
    {
      "cell_type": "code",
      "source": [
        "df2.head()"
      ],
      "metadata": {
        "trusted": true,
        "execution": {
          "iopub.status.busy": "2025-01-27T13:06:55.595811Z",
          "iopub.execute_input": "2025-01-27T13:06:55.596123Z",
          "iopub.status.idle": "2025-01-27T13:06:55.614052Z",
          "shell.execute_reply.started": "2025-01-27T13:06:55.5961Z",
          "shell.execute_reply": "2025-01-27T13:06:55.612835Z"
        },
        "id": "tlYdSNeJEMh1"
      },
      "outputs": [],
      "execution_count": null
    },
    {
      "cell_type": "code",
      "source": [
        "ordinal_column = ['insured_education_level', 'incident_severity']\n",
        "nonordinal_columns = ['insured_sex', 'insured_occupation', 'insured_hobbies', 'insured_relationship',  'incident_type', 'collision_type',\n",
        "                     'authorities_contacted', 'property_damage', 'police_report_available',\n",
        "                     'fraud_reported']"
      ],
      "metadata": {
        "trusted": true,
        "execution": {
          "iopub.status.busy": "2025-01-27T13:07:04.363025Z",
          "iopub.execute_input": "2025-01-27T13:07:04.36338Z",
          "iopub.status.idle": "2025-01-27T13:07:04.368217Z",
          "shell.execute_reply.started": "2025-01-27T13:07:04.363351Z",
          "shell.execute_reply": "2025-01-27T13:07:04.366854Z"
        },
        "id": "yk03htbVEMh1"
      },
      "outputs": [],
      "execution_count": null
    },
    {
      "cell_type": "code",
      "source": [
        "df2['insured_education_level'].unique()"
      ],
      "metadata": {
        "trusted": true,
        "execution": {
          "iopub.status.busy": "2025-01-27T13:07:15.597919Z",
          "iopub.execute_input": "2025-01-27T13:07:15.598261Z",
          "iopub.status.idle": "2025-01-27T13:07:15.604981Z",
          "shell.execute_reply.started": "2025-01-27T13:07:15.598236Z",
          "shell.execute_reply": "2025-01-27T13:07:15.603853Z"
        },
        "id": "PTW3GgnDEMh2"
      },
      "outputs": [],
      "execution_count": null
    },
    {
      "cell_type": "code",
      "source": [
        "df2['incident_severity'].unique()"
      ],
      "metadata": {
        "trusted": true,
        "execution": {
          "iopub.status.busy": "2025-01-27T13:07:25.415638Z",
          "iopub.execute_input": "2025-01-27T13:07:25.415974Z",
          "iopub.status.idle": "2025-01-27T13:07:25.42224Z",
          "shell.execute_reply.started": "2025-01-27T13:07:25.415948Z",
          "shell.execute_reply": "2025-01-27T13:07:25.421267Z"
        },
        "id": "FIQER2PhEMh2"
      },
      "outputs": [],
      "execution_count": null
    },
    {
      "cell_type": "code",
      "source": [
        "# fit_transform\n",
        "# inverse_transform\n",
        "\n",
        "\n",
        "from sklearn.preprocessing import LabelEncoder\n",
        "\n",
        "label_encoders = {}\n",
        "\n",
        "for col in ['insured_education_level', 'incident_severity']:\n",
        "  le = LabelEncoder()\n",
        "  df2[f'{col}_encoded'] = le.fit_transform(df2[col])\n",
        "  label_encoders[col] = dict(zip(le.classes_, le.transform(le.classes_)))\n",
        "\n",
        "\n",
        "label_encoders"
      ],
      "metadata": {
        "trusted": true,
        "execution": {
          "iopub.status.busy": "2025-01-27T13:08:08.323079Z",
          "iopub.execute_input": "2025-01-27T13:08:08.323467Z",
          "iopub.status.idle": "2025-01-27T13:08:08.912188Z",
          "shell.execute_reply.started": "2025-01-27T13:08:08.323428Z",
          "shell.execute_reply": "2025-01-27T13:08:08.911083Z"
        },
        "id": "Zvrbm2LQEMh2"
      },
      "outputs": [],
      "execution_count": null
    },
    {
      "cell_type": "code",
      "source": [
        "df2.columns"
      ],
      "metadata": {
        "trusted": true,
        "execution": {
          "iopub.status.busy": "2025-01-27T13:08:30.471345Z",
          "iopub.execute_input": "2025-01-27T13:08:30.471902Z",
          "iopub.status.idle": "2025-01-27T13:08:30.477703Z",
          "shell.execute_reply.started": "2025-01-27T13:08:30.471874Z",
          "shell.execute_reply": "2025-01-27T13:08:30.476878Z"
        },
        "id": "rsXdg6MSEMh2"
      },
      "outputs": [],
      "execution_count": null
    },
    {
      "cell_type": "code",
      "source": [
        "df2.drop(columns=['incident_severity', 'insured_education_level'], axis=1, inplace=True)"
      ],
      "metadata": {
        "trusted": true,
        "execution": {
          "iopub.status.busy": "2025-01-27T13:08:49.764971Z",
          "iopub.execute_input": "2025-01-27T13:08:49.765321Z",
          "iopub.status.idle": "2025-01-27T13:08:49.771002Z",
          "shell.execute_reply.started": "2025-01-27T13:08:49.76527Z",
          "shell.execute_reply": "2025-01-27T13:08:49.769872Z"
        },
        "id": "_Fg7cmP-EMh2"
      },
      "outputs": [],
      "execution_count": null
    },
    {
      "cell_type": "code",
      "source": [
        "nonordinal_columns = ['insured_sex', 'insured_occupation', 'insured_hobbies', 'insured_relationship',  'incident_type', 'collision_type',\n",
        "                     'authorities_contacted', 'property_damage', 'police_report_available',\n",
        "                     'fraud_reported']"
      ],
      "metadata": {
        "trusted": true,
        "execution": {
          "iopub.status.busy": "2025-01-27T13:09:49.686922Z",
          "iopub.execute_input": "2025-01-27T13:09:49.687348Z",
          "iopub.status.idle": "2025-01-27T13:09:49.691661Z",
          "shell.execute_reply.started": "2025-01-27T13:09:49.687282Z",
          "shell.execute_reply": "2025-01-27T13:09:49.690673Z"
        },
        "id": "Fn5kY6TjEMh3"
      },
      "outputs": [],
      "execution_count": null
    },
    {
      "cell_type": "code",
      "source": [
        "df2 = pd.get_dummies(df2, columns=nonordinal_columns, drop_first=True)"
      ],
      "metadata": {
        "trusted": true,
        "execution": {
          "iopub.status.busy": "2025-01-27T13:10:04.383013Z",
          "iopub.execute_input": "2025-01-27T13:10:04.383383Z",
          "iopub.status.idle": "2025-01-27T13:10:04.398256Z",
          "shell.execute_reply.started": "2025-01-27T13:10:04.383351Z",
          "shell.execute_reply": "2025-01-27T13:10:04.397529Z"
        },
        "id": "azf3v7NwEMh3"
      },
      "outputs": [],
      "execution_count": null
    },
    {
      "cell_type": "code",
      "source": [
        "df2.head()"
      ],
      "metadata": {
        "trusted": true,
        "execution": {
          "iopub.status.busy": "2025-01-27T13:10:49.635002Z",
          "iopub.execute_input": "2025-01-27T13:10:49.635377Z",
          "iopub.status.idle": "2025-01-27T13:10:49.654554Z",
          "shell.execute_reply.started": "2025-01-27T13:10:49.635341Z",
          "shell.execute_reply": "2025-01-27T13:10:49.653563Z"
        },
        "id": "S_-0Lhv1EMh3"
      },
      "outputs": [],
      "execution_count": null
    },
    {
      "cell_type": "code",
      "source": [
        "df2.head()"
      ],
      "metadata": {
        "trusted": true,
        "execution": {
          "iopub.status.busy": "2025-01-27T13:12:05.798957Z",
          "iopub.execute_input": "2025-01-27T13:12:05.799328Z",
          "iopub.status.idle": "2025-01-27T13:12:05.818148Z",
          "shell.execute_reply.started": "2025-01-27T13:12:05.799281Z",
          "shell.execute_reply": "2025-01-27T13:12:05.817172Z"
        },
        "id": "BfygdO2qEMh3"
      },
      "outputs": [],
      "execution_count": null
    },
    {
      "cell_type": "code",
      "source": [
        "df2.columns"
      ],
      "metadata": {
        "trusted": true,
        "execution": {
          "iopub.status.busy": "2025-01-27T13:11:18.631986Z",
          "iopub.execute_input": "2025-01-27T13:11:18.632347Z",
          "iopub.status.idle": "2025-01-27T13:11:18.638841Z",
          "shell.execute_reply.started": "2025-01-27T13:11:18.632281Z",
          "shell.execute_reply": "2025-01-27T13:11:18.637718Z"
        },
        "id": "_rXbyE9LEMh9"
      },
      "outputs": [],
      "execution_count": null
    },
    {
      "cell_type": "code",
      "source": [
        "df2 = df2.replace({True: 1, False: 0})"
      ],
      "metadata": {
        "trusted": true,
        "execution": {
          "iopub.status.busy": "2025-01-27T13:12:14.987796Z",
          "iopub.execute_input": "2025-01-27T13:12:14.988143Z",
          "iopub.status.idle": "2025-01-27T13:12:15.037099Z",
          "shell.execute_reply.started": "2025-01-27T13:12:14.988117Z",
          "shell.execute_reply": "2025-01-27T13:12:15.036098Z"
        },
        "collapsed": true,
        "jupyter": {
          "outputs_hidden": true
        },
        "id": "xh5J5G6-EMh9"
      },
      "outputs": [],
      "execution_count": null
    },
    {
      "cell_type": "code",
      "source": [
        "# I am going to do undersampling in order to tackle the issue of imbalanced dataset\n",
        "X = df2.drop('fraud_reported_Y', axis=1)\n",
        "y = df2['fraud_reported_Y']\n",
        "from imblearn.under_sampling import RandomUnderSampler\n",
        "\n",
        "rus = RandomUnderSampler(sampling_strategy=1)\n",
        "\n",
        "X_res, y_res = rus.fit_resample(X,y)\n",
        "\n",
        "ax = y_res.value_counts().plot.pie(autopct='%.2f')\n",
        "_ = ax.set_title('Under_Sampling')"
      ],
      "metadata": {
        "trusted": true,
        "execution": {
          "iopub.status.busy": "2025-01-27T13:15:07.918836Z",
          "iopub.execute_input": "2025-01-27T13:15:07.919184Z",
          "iopub.status.idle": "2025-01-27T13:15:08.709482Z",
          "shell.execute_reply.started": "2025-01-27T13:15:07.91916Z",
          "shell.execute_reply": "2025-01-27T13:15:08.708445Z"
        },
        "id": "mtD7vKcYEMh9"
      },
      "outputs": [],
      "execution_count": null
    },
    {
      "cell_type": "code",
      "source": [
        "# I try all the available models\n",
        "from sklearn.model_selection import train_test_split\n",
        "from sklearn.metrics import classification_report\n",
        "from sklearn.ensemble import RandomForestClassifier\n",
        "from sklearn.linear_model import LogisticRegression\n",
        "from sklearn.svm import SVC\n",
        "from sklearn.tree import DecisionTreeClassifier\n",
        "from sklearn.neighbors import KNeighborsClassifier\n",
        "from sklearn.naive_bayes import GaussianNB\n",
        "from sklearn.ensemble import GradientBoostingClassifier\n",
        "from sklearn.ensemble import AdaBoostClassifier\n",
        "from sklearn.preprocessing import StandardScaler\n",
        "\n",
        "\n",
        "X_train, X_test, y_train, y_test = train_test_split(X_res, y_res, test_size=0.3, random_state=42)\n",
        "\n",
        "# Standardize the data\n",
        "scaler = StandardScaler()\n",
        "X_train_scaled = scaler.fit_transform(X_train)\n",
        "X_test_scaled = scaler.transform(X_test)\n",
        "\n",
        "# List of classifiers to evaluate\n",
        "models = [\n",
        "    ('Random Forest', RandomForestClassifier()),\n",
        "    ('Logistic Regression', LogisticRegression(max_iter=1000)),\n",
        "    ('SVM', SVC()),\n",
        "    ('Decision Tree', DecisionTreeClassifier()),\n",
        "    ('K-Nearest Neighbors', KNeighborsClassifier()),\n",
        "    ('Naive Bayes', GaussianNB()),\n",
        "    ('Gradient Boosting', GradientBoostingClassifier()),\n",
        "    ('AdaBoost', AdaBoostClassifier())\n",
        "]\n",
        "\n",
        "# Evaluate each model\n",
        "for name, model in models:\n",
        "    model.fit(X_train_scaled, y_train)\n",
        "    y_pred = model.predict(X_test_scaled)\n",
        "    print(f\"\\n{name} Classification Report:\")\n",
        "    print(classification_report(y_test, y_pred))\n"
      ],
      "metadata": {
        "trusted": true,
        "execution": {
          "iopub.status.busy": "2025-01-27T13:16:43.334956Z",
          "iopub.execute_input": "2025-01-27T13:16:43.335556Z",
          "iopub.status.idle": "2025-01-27T13:16:44.024952Z",
          "shell.execute_reply.started": "2025-01-27T13:16:43.335524Z",
          "shell.execute_reply": "2025-01-27T13:16:44.023624Z"
        },
        "id": "ashiFjBcEMh9"
      },
      "outputs": [],
      "execution_count": null
    },
    {
      "cell_type": "code",
      "source": [
        "# explore to find the best possible model using cross-validation\n",
        "from sklearn.model_selection import cross_val_score\n",
        "\n",
        "best_model = None\n",
        "best_score = 0\n",
        "\n",
        "for name, model in models:\n",
        "    scores = cross_val_score(model, X, y, cv=5, scoring='accuracy')\n",
        "    mean_score = np.mean(scores)\n",
        "    print(f\"{name} Mean Accuracy: {mean_score}\")\n",
        "\n",
        "    if mean_score > best_score:\n",
        "        best_score = mean_score\n",
        "        best_model = model\n",
        "\n",
        "\n",
        "best_model.fit(X_train_scaled, y_train)\n",
        "y_pred = best_model.predict(X_test_scaled)\n",
        "print(f\"\\nBest Model: {best_model.__class__.__name__}\")\n",
        "print(classification_report(y_test, y_pred))\n"
      ],
      "metadata": {
        "trusted": true,
        "execution": {
          "iopub.status.busy": "2025-01-27T13:17:49.773717Z",
          "iopub.execute_input": "2025-01-27T13:17:49.774095Z",
          "iopub.status.idle": "2025-01-27T13:17:54.570355Z",
          "shell.execute_reply.started": "2025-01-27T13:17:49.774069Z",
          "shell.execute_reply": "2025-01-27T13:17:54.569207Z"
        },
        "id": "Xwsf-e-0EMh-"
      },
      "outputs": [],
      "execution_count": null
    },
    {
      "cell_type": "code",
      "source": [],
      "metadata": {
        "trusted": true,
        "id": "DLkFMkNcEMh-"
      },
      "outputs": [],
      "execution_count": null
    }
  ]
}